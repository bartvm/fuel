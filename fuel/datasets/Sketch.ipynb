{
 "cells": [
  {
   "cell_type": "markdown",
   "metadata": {},
   "source": [
    "[Eitz et al](http://cybertron.cg.tu-berlin.de/eitz/projects/classifysketch/) asked non-expert humans to sketch objects of a given category and gather 20,000 unique sketches evenly distributed over 250 object categories.\n",
    "\n",
    "    @article{eitz2012hdhso,\n",
    "        author={Eitz, Mathias and Hays, James and Alexa, Marc},\n",
    "        title={How Do Humans Sketch Objects?},\n",
    "        journal={ACM Trans. Graph. (Proc. SIGGRAPH)},\n",
    "        year={2012},\n",
    "        volume={31},\n",
    "        number={4},\n",
    "        pages = {44:1--44:10}\n",
    "    }"
   ]
  },
  {
   "cell_type": "markdown",
   "metadata": {},
   "source": [
    "Download png images (525MB):"
   ]
  },
  {
   "cell_type": "code",
   "execution_count": null,
   "metadata": {
    "collapsed": true
   },
   "outputs": [],
   "source": [
    "%%bash\n",
    "cd ~/Downloads\n",
    "wget http://cybertron.cg.tu-berlin.de/eitz/projects/classifysketch/sketches_png.zip\n",
    "unzip sketches_png.zip"
   ]
  },
  {
   "cell_type": "code",
   "execution_count": 2,
   "metadata": {
    "collapsed": false
   },
   "outputs": [
    {
     "data": {
      "text/plain": [
       "20000"
      ]
     },
     "execution_count": 2,
     "metadata": {},
     "output_type": "execute_result"
    }
   ],
   "source": [
    "files = !find ~/Downloads/png -name \"*.png\"\n",
    "len(files)"
   ]
  },
  {
   "cell_type": "code",
   "execution_count": 3,
   "metadata": {
    "collapsed": true
   },
   "outputs": [],
   "source": [
    "#Import libraries for doing image analysis\n",
    "from skimage.io import imread\n",
    "from skimage.transform import resize\n",
    "from sklearn.ensemble import RandomForestClassifier as RF\n",
    "import glob\n",
    "import os\n",
    "from sklearn import cross_validation\n",
    "from sklearn.cross_validation import StratifiedKFold as KFold\n",
    "from sklearn.metrics import classification_report\n",
    "from matplotlib import pyplot as plt\n",
    "from matplotlib import colors\n",
    "from pylab import cm\n",
    "from skimage import segmentation\n",
    "from skimage.morphology import watershed\n",
    "from skimage import measure\n",
    "from skimage import morphology\n",
    "import numpy as np\n",
    "import pandas as pd\n",
    "from scipy import ndimage\n",
    "from skimage.feature import peak_local_max\n",
    "# make graphics inline\n",
    "%matplotlib inline"
   ]
  },
  {
   "cell_type": "code",
   "execution_count": 52,
   "metadata": {
    "collapsed": false
   },
   "outputs": [
    {
     "data": {
      "text/plain": [
       "<matplotlib.image.AxesImage at 0x123f4dd50>"
      ]
     },
     "execution_count": 52,
     "metadata": {},
     "output_type": "execute_result"
    },
    {
     "data": {
      "image/png": "[encoded data removed]",
      "text/plain": [
       "<matplotlib.figure.Figure at 0x123e65250>"
      ]
     },
     "metadata": {},
     "output_type": "display_data"
    }
   ],
   "source": [
    "plt.figure(figsize=(12,3))\n",
    "image = imread(files[0], as_grey=True)\n",
    "imagethr = np.where(image > np.mean(image),0.,1.0)\n",
    "\n",
    "plt.subplot(1,3,1)\n",
    "plt.imshow(imagethr, cmap=cm.gray);\n",
    "imdilated = morphology.dilation(imagethr, np.ones((16,16)))\n",
    "plt.subplot(1,3,2)\n",
    "plt.imshow(imdilated, cmap=cm.gray);\n",
    "\n",
    "im1 = resize(imdilated,[56,56])\n",
    "plt.subplot(1,3,3)\n",
    "plt.imshow(im1, cmap=cm.gray);\n",
    "# plt.show()"
   ]
  },
  {
   "cell_type": "code",
   "execution_count": 7,
   "metadata": {
    "collapsed": true
   },
   "outputs": [],
   "source": [
    "def process(fname):\n",
    "    image = imread(fname, as_grey=True)\n",
    "    imagethr = np.where(image > np.mean(image),0.,1.)\n",
    "    imdilated = morphology.dilation(imagethr, np.ones((16,16)))\n",
    "    im1 = resize(imdilated,[56,56])\n",
    "    return im1.ravel().astype(np.int8)"
   ]
  },
  {
   "cell_type": "markdown",
   "metadata": {},
   "source": [
    "forever divided by eight is also forever :("
   ]
  },
  {
   "cell_type": "code",
   "execution_count": 12,
   "metadata": {
    "collapsed": true
   },
   "outputs": [],
   "source": [
    "import multiprocessing as mp\n",
    "NUM_PROCESSES = 8\n",
    "pool = mp.Pool(NUM_PROCESSES)\n",
    "results = pool.map(process, files, chunksize=100)\n",
    "pool.close()\n",
    "pool.join()"
   ]
  },
  {
   "cell_type": "code",
   "execution_count": 13,
   "metadata": {
    "collapsed": false
   },
   "outputs": [
    {
     "data": {
      "text/plain": [
       "20000"
      ]
     },
     "execution_count": 13,
     "metadata": {},
     "output_type": "execute_result"
    }
   ],
   "source": [
    "len(results)"
   ]
  },
  {
   "cell_type": "code",
   "execution_count": 45,
   "metadata": {
    "collapsed": true
   },
   "outputs": [],
   "source": [
    "import sklearn.cross_validation\n",
    "kf = sklearn.cross_validation.KFold(len(files), n_folds=10, shuffle=True, random_state=1)\n",
    "train_index, test_index = iter(kf).next()"
   ]
  },
  {
   "cell_type": "code",
   "execution_count": 15,
   "metadata": {
    "collapsed": true
   },
   "outputs": [],
   "source": [
    "X = np.empty((len(train_index),56*56),np.int8)\n",
    "for i,r in enumerate(train_index):\n",
    "    X[i,:] = results[r]"
   ]
  },
  {
   "cell_type": "code",
   "execution_count": 16,
   "metadata": {
    "collapsed": true
   },
   "outputs": [],
   "source": [
    "import os\n",
    "home = os.path.expanduser(\"~\")\n",
    "np.save(os.path.join(home,'Downloads','binarized_sketch_train'),X)"
   ]
  },
  {
   "cell_type": "code",
   "execution_count": 17,
   "metadata": {
    "collapsed": true
   },
   "outputs": [],
   "source": [
    "X1 = np.empty((len(test_index),56*56),np.int8)\n",
    "for i,r in enumerate(test_index):\n",
    "    X1[i,:] = results[r]"
   ]
  },
  {
   "cell_type": "code",
   "execution_count": 18,
   "metadata": {
    "collapsed": true
   },
   "outputs": [],
   "source": [
    "np.save(os.path.join(home,'Downloads','binarized_sketch_test'),X1)"
   ]
  },
  {
   "cell_type": "code",
   "execution_count": 19,
   "metadata": {
    "collapsed": false
   },
   "outputs": [
    {
     "name": "stdout",
     "output_type": "stream",
     "text": [
      "a binarized_sketch_train.npy\n",
      "a binarized_sketch_test.npy\n"
     ]
    }
   ],
   "source": [
    "!(cd ~/Downloads ; tar cvfz binarized_sketch.tgz binarized_sketch_train.npy binarized_sketch_test.npy )"
   ]
  },
  {
   "cell_type": "code",
   "execution_count": 20,
   "metadata": {
    "collapsed": false
   },
   "outputs": [
    {
     "name": "stdout",
     "output_type": "stream",
     "text": [
      "-rw-r--r--  1 udi  staff  2975176 Mar 22 18:20 /Users/udi/Downloads/binarized_sketch.tgz\r\n"
     ]
    }
   ],
   "source": [
    "!ls -l ~/Downloads/binarized_sketch.tgz"
   ]
  },
  {
   "cell_type": "code",
   "execution_count": 21,
   "metadata": {
    "collapsed": false
   },
   "outputs": [
    {
     "name": "stdout",
     "output_type": "stream",
     "text": [
      "upload: ../../../../../Downloads/binarized_sketch.tgz to s3://udidraw/binarized_sketch.tgz\r\n"
     ]
    }
   ],
   "source": [
    "!aws s3 cp ~/Downloads/binarized_sketch.tgz s3://udidraw/ --grants read=uri=http://acs.amazonaws.com/groups/global/AllUsers"
   ]
  },
  {
   "cell_type": "code",
   "execution_count": 23,
   "metadata": {
    "collapsed": false
   },
   "outputs": [
    {
     "data": {
      "text/plain": [
       "((18000, 3136), (2000, 3136))"
      ]
     },
     "execution_count": 23,
     "metadata": {},
     "output_type": "execute_result"
    }
   ],
   "source": [
    "X.shape,X1.shape"
   ]
  },
  {
   "cell_type": "code",
   "execution_count": 25,
   "metadata": {
    "collapsed": false
   },
   "outputs": [
    {
     "data": {
      "text/plain": [
       "(0.086656143707482994, 0.28133051108123897)"
      ]
     },
     "execution_count": 25,
     "metadata": {},
     "output_type": "execute_result"
    }
   ],
   "source": [
    "X.mean(),X.std()"
   ]
  },
  {
   "cell_type": "code",
   "execution_count": 26,
   "metadata": {
    "collapsed": false
   },
   "outputs": [
    {
     "data": {
      "text/plain": [
       "(0.087477040816326526, 0.28253284436742077)"
      ]
     },
     "execution_count": 26,
     "metadata": {},
     "output_type": "execute_result"
    }
   ],
   "source": [
    "X1.mean(),X1.std()"
   ]
  },
  {
   "cell_type": "code",
   "execution_count": 30,
   "metadata": {
    "collapsed": true
   },
   "outputs": [],
   "source": [
    "train_labels = ['/'.join(files[r].split('/')[-2:]) for r in train_index]\n",
    "test_labels = ['/'.join(files[r].split('/')[-2:]) for r in test_index]"
   ]
  },
  {
   "cell_type": "code",
   "execution_count": 50,
   "metadata": {
    "collapsed": false
   },
   "outputs": [],
   "source": [
    "import cPickle as pickle\n",
    "with open(os.path.join(home,'Downloads','binarized_sketch_labels.pkl'),'wb') as fp:\n",
    "          pickle.dump((train_labels,test_labels),fp,-1)"
   ]
  },
  {
   "cell_type": "code",
   "execution_count": 51,
   "metadata": {
    "collapsed": false
   },
   "outputs": [
    {
     "name": "stdout",
     "output_type": "stream",
     "text": [
      "upload: ../../../../../Downloads/binarized_sketch_labels.pkl to s3://udidraw/binarized_sketch_labels.pkl\r\n"
     ]
    }
   ],
   "source": [
    "!aws s3 cp ~/Downloads/binarized_sketch_labels.pkl s3://udidraw/ --grants read=uri=http://acs.amazonaws.com/groups/global/AllUsers"
   ]
  },
  {
   "cell_type": "code",
   "execution_count": null,
   "metadata": {
    "collapsed": true
   },
   "outputs": [],
   "source": []
  }
 ],
 "metadata": {
  "kernelspec": {
   "display_name": "Python 2",
   "language": "python",
   "name": "python2"
  },
  "language_info": {
   "codemirror_mode": {
    "name": "ipython",
    "version": 2
   },
   "file_extension": ".py",
   "mimetype": "text/x-python",
   "name": "python",
   "nbconvert_exporter": "python",
   "pygments_lexer": "ipython2",
   "version": "2.7.9"
  }
 },
 "nbformat": 4,
 "nbformat_minor": 0
}
